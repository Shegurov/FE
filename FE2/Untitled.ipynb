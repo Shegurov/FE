{
 "cells": [
  {
   "cell_type": "code",
   "execution_count": 371,
   "metadata": {},
   "outputs": [],
   "source": [
    "from sklearn.datasets import load_iris\n",
    "import pandas as pd\n",
    "import numpy as np\n",
    "import matplotlib.pyplot as plt\n",
    "from sklearn.model_selection import train_test_split\n",
    "from sklearn.metrics import accuracy_score\n",
    "from sklearn.linear_model import LogisticRegression\n",
    "from math import exp"
   ]
  },
  {
   "cell_type": "code",
   "execution_count": 372,
   "metadata": {},
   "outputs": [],
   "source": [
    "#подготовим наш датасет:\n",
    "iris = load_iris()\n",
    "df = pd.DataFrame(iris.data, columns=iris.feature_names)\n",
    "df['class'] = iris.target\n",
    "df = df[df['class'] != 0]\n",
    "df['class'].replace([1, 2], [1, 0], inplace=True) \n",
    "result = pd.DataFrame(data=df['class'])\n",
    "df.drop('class', axis=1, inplace=True)"
   ]
  },
  {
   "cell_type": "code",
   "execution_count": 373,
   "metadata": {},
   "outputs": [],
   "source": [
    "# Реализуем функцию логистической регресии\n",
    "def predict(row, coefficients):\n",
    "    y = coefficients[0]\n",
    "    for i in range(len(row)):\n",
    "        y += coefficients[i + 1] * row[i]\n",
    "    return 1.0 / (1.0 + exp(-y))"
   ]
  },
  {
   "cell_type": "code",
   "execution_count": 374,
   "metadata": {},
   "outputs": [
    {
     "data": {
      "text/plain": [
       "(array([14.43080433]),\n",
       " array([[ 0.39443136,  0.51327025, -2.93075043, -2.4170433 ]]))"
      ]
     },
     "execution_count": 374,
     "metadata": {},
     "output_type": "execute_result"
    }
   ],
   "source": [
    "#модлеькой sklearn подберем лучшие коэффициенты:\n",
    "clf = LogisticRegression().fit(df, result['class'])\n",
    "clf.intercept_, clf.coef_"
   ]
  },
  {
   "cell_type": "code",
   "execution_count": 375,
   "metadata": {},
   "outputs": [],
   "source": [
    "# Подставим коэффициенты в нашу функцию лог. регрессии\n",
    "result['predict'] = df.apply(predict, coefficients=[14.43,0.39,0.51,-2.93,-2.41], axis=1)"
   ]
  },
  {
   "cell_type": "code",
   "execution_count": 376,
   "metadata": {},
   "outputs": [],
   "source": [
    "#Создадим функцию для проверки точности:\n",
    "def calculate_accuracy(df):\n",
    "    valuelist = df.values.tolist()\n",
    "    correct_count = 0\n",
    "    for element in valuelist:\n",
    "        if element[1] > 0.5:\n",
    "            predicted_value = 1\n",
    "        else:\n",
    "            predicted_value = 0\n",
    "        if predicted_value == element[0]:\n",
    "            correct_count+=1\n",
    "    return correct_count / len(valuelist)"
   ]
  },
  {
   "cell_type": "code",
   "execution_count": 377,
   "metadata": {},
   "outputs": [
    {
     "data": {
      "text/plain": [
       "0.96"
      ]
     },
     "execution_count": 377,
     "metadata": {},
     "output_type": "execute_result"
    }
   ],
   "source": [
    "calculate_accuracy(result)"
   ]
  },
  {
   "cell_type": "markdown",
   "metadata": {},
   "source": [
    "Как мы видим, с полученными коэффициентами наша регрессия работает с очень высокой точностью."
   ]
  },
  {
   "cell_type": "code",
   "execution_count": 457,
   "metadata": {},
   "outputs": [],
   "source": [
    "# # разработаем функцию градиентного спуска: \n",
    "\n",
    "# def coefficients_gd(train, l_rate, n_epoch):\n",
    "#     #начнём с 0 точки:\n",
    "#     coef = [0.0 for i in range(len(train[0]))]\n",
    "#     for epoch in range(n_epoch):\n",
    "#         sum_error = 0\n",
    "#         for row in train:\n",
    "#             y = predict(row[0:4], coef)\n",
    "#             error = row[-1] - y\n",
    "#             #Ошибку посчитаем методом MSE             \n",
    "#             sum_error += error**2\n",
    "#             coef[0] = coef[0] + l_rate * error * y * (1.0 - y)\n",
    "#             for i in range(len(row)-1):\n",
    "#                 coef[i + 1] = coef[i + 1] + l_rate * error * y * (1.0 - y) * row[i]\n",
    "#     return coef"
   ]
  },
  {
   "cell_type": "code",
   "execution_count": 476,
   "metadata": {},
   "outputs": [],
   "source": [
    "# разработаем функцию градиентного спуска: \n",
    "\n",
    "def coefficients_gd(train, l_rate, n_epoch):\n",
    "    #начнём с 0 точки:\n",
    "    coef = [0.0 for i in range(len(train[0]))]\n",
    "    for epoch in range(n_epoch):\n",
    "        sum_error = 0\n",
    "        for row in train:\n",
    "            y = predict(row[0:4], coef)\n",
    "            error = row[-1] - y\n",
    "            #Ошибку посчитаем методом MSE             \n",
    "            sum_error += error**2\n",
    "            coef[0] = coef[0] + l_rate * y * (1.0 - y) * error\n",
    "            for i in range(len(row)-1):\n",
    "                coef[i + 1] = coef[i + 1] + l_rate * y * (1.0 - y) * row[i] * error\n",
    "    return coef"
   ]
  },
  {
   "cell_type": "code",
   "execution_count": 478,
   "metadata": {},
   "outputs": [],
   "source": [
    "dft = df.copy()\n",
    "dft['class'] = result['class']\n",
    "data=dft.values.tolist()"
   ]
  },
  {
   "cell_type": "code",
   "execution_count": 479,
   "metadata": {},
   "outputs": [
    {
     "name": "stdout",
     "output_type": "stream",
     "text": [
      "[8.634036388917055, 5.445003851939993, 6.566652876848133, -8.641267875165145, -12.723017457111949]\n"
     ]
    }
   ],
   "source": [
    "l_rate = 0.2\n",
    "n_epoch = 1000\n",
    "coef = coefficients_gd(data, l_rate, n_epoch)\n",
    "print(coef)"
   ]
  },
  {
   "cell_type": "code",
   "execution_count": 480,
   "metadata": {},
   "outputs": [],
   "source": [
    "result['predict'] = df.apply(predict, coefficients=coef, axis=1)"
   ]
  },
  {
   "cell_type": "code",
   "execution_count": 481,
   "metadata": {},
   "outputs": [
    {
     "data": {
      "text/plain": [
       "0.94"
      ]
     },
     "execution_count": 481,
     "metadata": {},
     "output_type": "execute_result"
    }
   ],
   "source": [
    "calculate_accuracy(result)"
   ]
  },
  {
   "cell_type": "code",
   "execution_count": null,
   "metadata": {},
   "outputs": [],
   "source": [
    "C помощью градиентного спуска с низким LR и большим количеством итераций удалось приблизться к такому же качеству модели, которое выдает sklearn"
   ]
  },
  {
   "cell_type": "code",
   "execution_count": null,
   "metadata": {},
   "outputs": [],
   "source": []
  }
 ],
 "metadata": {
  "kernelspec": {
   "display_name": "Python 3",
   "language": "python",
   "name": "python3"
  },
  "language_info": {
   "codemirror_mode": {
    "name": "ipython",
    "version": 3
   },
   "file_extension": ".py",
   "mimetype": "text/x-python",
   "name": "python",
   "nbconvert_exporter": "python",
   "pygments_lexer": "ipython3",
   "version": "3.8.3"
  }
 },
 "nbformat": 4,
 "nbformat_minor": 4
}
