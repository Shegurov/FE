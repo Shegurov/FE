{
 "cells": [
  {
   "cell_type": "code",
   "execution_count": 1,
   "metadata": {},
   "outputs": [],
   "source": [
    "import pandas as pd\n",
    "import numpy as np"
   ]
  },
  {
   "cell_type": "code",
   "execution_count": 63,
   "metadata": {},
   "outputs": [],
   "source": [
    "from sklearn.model_selection import train_test_split\n",
    "from sklearn.discriminant_analysis import LinearDiscriminantAnalysis\n",
    "from sklearn.linear_model import LogisticRegression\n",
    "from sklearn.metrics import accuracy_score\n",
    "from sklearn.preprocessing import LabelEncoder\n",
    "from sklearn.preprocessing import StandardScaler\n",
    "from sklearn.pipeline import make_pipeline\n",
    "from sklearn.svm import SVC"
   ]
  },
  {
   "cell_type": "code",
   "execution_count": 42,
   "metadata": {},
   "outputs": [],
   "source": [
    "df = pd.read_csv('adult.csv')\n",
    "df.head(25)\n",
    "le = LabelEncoder()\n",
    "le.fit( df['income'] )\n",
    "# Преобразуем целевую перменную в числовую\n",
    "df['income'] = pd.Series( data = le.transform( df['income'] ) )\n",
    "# Для всех категориальных признаков сделаем преобразование в числовые вида 0-1:\n",
    "df = pd.get_dummies( df )\n",
    "# Удалим переменную, которая не несет никакой смысловой нагрузки\n",
    "del df['fnlwgt']\n",
    "\n",
    "df_train, df_test = train_test_split(df, test_size=0.2)\n",
    "y_train, y_test = df_train['income'], df_test['income']\n",
    "del df_train['income']\n",
    "del df_test['income']\n"
   ]
  },
  {
   "cell_type": "code",
   "execution_count": 60,
   "metadata": {},
   "outputs": [
    {
     "data": {
      "text/plain": [
       "0.8412324700583478"
      ]
     },
     "execution_count": 60,
     "metadata": {},
     "output_type": "execute_result"
    }
   ],
   "source": [
    "# Линейный дискриминационный анализ\n",
    "lda = make_pipeline(StandardScaler(), LinearDiscriminantAnalysis())\n",
    "lda.fit(df_train, y_train)\n",
    "accuracy_score(y_test, lda.predict(df_test))"
   ]
  },
  {
   "cell_type": "code",
   "execution_count": 61,
   "metadata": {},
   "outputs": [
    {
     "data": {
      "text/plain": [
       "0.8515712969597707"
      ]
     },
     "execution_count": 61,
     "metadata": {},
     "output_type": "execute_result"
    }
   ],
   "source": [
    "# Логистическая регрессия\n",
    "lr = make_pipeline(StandardScaler(),LogisticRegression(max_iter=100000))\n",
    "lr.fit(df_train, y_train)\n",
    "accuracy_score(y_test, lr.predict(df_test))"
   ]
  },
  {
   "cell_type": "code",
   "execution_count": 64,
   "metadata": {},
   "outputs": [
    {
     "data": {
      "text/plain": [
       "0.8464530658204524"
      ]
     },
     "execution_count": 64,
     "metadata": {},
     "output_type": "execute_result"
    }
   ],
   "source": [
    "# Метод опорных векторов\n",
    "clf = make_pipeline(StandardScaler(), SVC(gamma='auto'))\n",
    "clf.fit(df_train, y_train)\n",
    "accuracy_score(y_test, clf.predict(df_test))"
   ]
  }
 ],
 "metadata": {
  "kernelspec": {
   "display_name": "Python 3",
   "language": "python",
   "name": "python3"
  },
  "language_info": {
   "codemirror_mode": {
    "name": "ipython",
    "version": 3
   },
   "file_extension": ".py",
   "mimetype": "text/x-python",
   "name": "python",
   "nbconvert_exporter": "python",
   "pygments_lexer": "ipython3",
   "version": "3.8.3"
  }
 },
 "nbformat": 4,
 "nbformat_minor": 4
}
